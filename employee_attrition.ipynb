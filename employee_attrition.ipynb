# Import necessary libraries
import pandas as pd
import numpy as np
from sklearn.model_selection import train_test_split
from sklearn.ensemble import RandomForestClassifier
from sklearn.metrics import accuracy_score, classification_report
import joblib

# Load the dataset
 'your_dataset.csv' with the path to your dataset
data = pd.read_csv("Data/WA_Fn-UseC_-HR-Employee-Attrition.csv")

# Display the first few rows of the dataset
data.head()

# Preprocess the data
# Assuming 'Attrition' is the target column and other columns are features
X = data.drop('Attrition', axis=1)
y = data['Attrition']

# Convert categorical columns to numerical using one-hot encoding
X = pd.get_dummies(X)

# Split the data into training and testing sets
X_train, X_test, y_train, y_test = train_test_split(X, y, test_size=0.2, random_state=42)

# Initialize and train the model
model = RandomForestClassifier(n_estimators=100, random_state=42)
model.fit(X_train, y_train)

# Make predictions
y_pred = model.predict(X_test)

# Evaluate the model
print("Accuracy:", accuracy_score(y_test, y_pred))
print("Classification Report:\n", classification_report(y_test, y_pred))

# Save the model
joblib.dump(model, 'employee_attrition_model.pkl')
